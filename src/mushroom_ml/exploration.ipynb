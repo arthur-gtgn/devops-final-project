{
 "cells": [
  {
   "cell_type": "code",
   "execution_count": 55,
   "id": "210bb569",
   "metadata": {},
   "outputs": [],
   "source": [
    "import pandas as pd\n",
    "from sklearn.ensemble import RandomForestClassifier\n",
    "from sklearn.model_selection import train_test_split\n",
    "from sklearn.metrics import accuracy_score"
   ]
  },
  {
   "cell_type": "code",
   "execution_count": 56,
   "id": "9d491955",
   "metadata": {},
   "outputs": [
    {
     "data": {
      "application/vnd.microsoft.datawrangler.viewer.v0+json": {
       "columns": [
        {
         "name": "index",
         "rawType": "int64",
         "type": "integer"
        },
        {
         "name": "class",
         "rawType": "object",
         "type": "string"
        },
        {
         "name": "cap-shape",
         "rawType": "object",
         "type": "string"
        },
        {
         "name": "cap-surface",
         "rawType": "object",
         "type": "string"
        },
        {
         "name": "cap-color",
         "rawType": "object",
         "type": "string"
        },
        {
         "name": "bruises",
         "rawType": "object",
         "type": "string"
        },
        {
         "name": "odor",
         "rawType": "object",
         "type": "string"
        },
        {
         "name": "gill-attachment",
         "rawType": "object",
         "type": "string"
        },
        {
         "name": "gill-spacing",
         "rawType": "object",
         "type": "string"
        },
        {
         "name": "gill-size",
         "rawType": "object",
         "type": "string"
        },
        {
         "name": "gill-color",
         "rawType": "object",
         "type": "string"
        },
        {
         "name": "stalk-shape",
         "rawType": "object",
         "type": "string"
        },
        {
         "name": "stalk-root",
         "rawType": "object",
         "type": "string"
        },
        {
         "name": "stalk-surface-above-ring",
         "rawType": "object",
         "type": "string"
        },
        {
         "name": "stalk-surface-below-ring",
         "rawType": "object",
         "type": "string"
        },
        {
         "name": "stalk-color-above-ring",
         "rawType": "object",
         "type": "string"
        },
        {
         "name": "stalk-color-below-ring",
         "rawType": "object",
         "type": "string"
        },
        {
         "name": "veil-type",
         "rawType": "object",
         "type": "string"
        },
        {
         "name": "veil-color",
         "rawType": "object",
         "type": "string"
        },
        {
         "name": "ring-number",
         "rawType": "object",
         "type": "string"
        },
        {
         "name": "ring-type",
         "rawType": "object",
         "type": "string"
        },
        {
         "name": "spore-print-color",
         "rawType": "object",
         "type": "string"
        },
        {
         "name": "population",
         "rawType": "object",
         "type": "string"
        },
        {
         "name": "habitat",
         "rawType": "object",
         "type": "string"
        }
       ],
       "ref": "077c4dc8-ccde-4fd3-847d-94a97b5f9827",
       "rows": [
        [
         "0",
         "e",
         "x",
         "s",
         "y",
         "t",
         "a",
         "f",
         "c",
         "b",
         "k",
         "e",
         "c",
         "s",
         "s",
         "w",
         "w",
         "p",
         "w",
         "o",
         "p",
         "n",
         "n",
         "g"
        ],
        [
         "1",
         "e",
         "b",
         "s",
         "w",
         "t",
         "l",
         "f",
         "c",
         "b",
         "n",
         "e",
         "c",
         "s",
         "s",
         "w",
         "w",
         "p",
         "w",
         "o",
         "p",
         "n",
         "n",
         "m"
        ],
        [
         "2",
         "p",
         "x",
         "y",
         "w",
         "t",
         "p",
         "f",
         "c",
         "n",
         "n",
         "e",
         "e",
         "s",
         "s",
         "w",
         "w",
         "p",
         "w",
         "o",
         "p",
         "k",
         "s",
         "u"
        ],
        [
         "3",
         "e",
         "x",
         "s",
         "g",
         "f",
         "n",
         "f",
         "w",
         "b",
         "k",
         "t",
         "e",
         "s",
         "s",
         "w",
         "w",
         "p",
         "w",
         "o",
         "e",
         "n",
         "a",
         "g"
        ],
        [
         "4",
         "e",
         "x",
         "y",
         "y",
         "t",
         "a",
         "f",
         "c",
         "b",
         "n",
         "e",
         "c",
         "s",
         "s",
         "w",
         "w",
         "p",
         "w",
         "o",
         "p",
         "k",
         "n",
         "g"
        ]
       ],
       "shape": {
        "columns": 23,
        "rows": 5
       }
      },
      "text/html": [
       "<div>\n",
       "<style scoped>\n",
       "    .dataframe tbody tr th:only-of-type {\n",
       "        vertical-align: middle;\n",
       "    }\n",
       "\n",
       "    .dataframe tbody tr th {\n",
       "        vertical-align: top;\n",
       "    }\n",
       "\n",
       "    .dataframe thead th {\n",
       "        text-align: right;\n",
       "    }\n",
       "</style>\n",
       "<table border=\"1\" class=\"dataframe\">\n",
       "  <thead>\n",
       "    <tr style=\"text-align: right;\">\n",
       "      <th></th>\n",
       "      <th>class</th>\n",
       "      <th>cap-shape</th>\n",
       "      <th>cap-surface</th>\n",
       "      <th>cap-color</th>\n",
       "      <th>bruises</th>\n",
       "      <th>odor</th>\n",
       "      <th>gill-attachment</th>\n",
       "      <th>gill-spacing</th>\n",
       "      <th>gill-size</th>\n",
       "      <th>gill-color</th>\n",
       "      <th>...</th>\n",
       "      <th>stalk-surface-below-ring</th>\n",
       "      <th>stalk-color-above-ring</th>\n",
       "      <th>stalk-color-below-ring</th>\n",
       "      <th>veil-type</th>\n",
       "      <th>veil-color</th>\n",
       "      <th>ring-number</th>\n",
       "      <th>ring-type</th>\n",
       "      <th>spore-print-color</th>\n",
       "      <th>population</th>\n",
       "      <th>habitat</th>\n",
       "    </tr>\n",
       "  </thead>\n",
       "  <tbody>\n",
       "    <tr>\n",
       "      <th>0</th>\n",
       "      <td>e</td>\n",
       "      <td>x</td>\n",
       "      <td>s</td>\n",
       "      <td>y</td>\n",
       "      <td>t</td>\n",
       "      <td>a</td>\n",
       "      <td>f</td>\n",
       "      <td>c</td>\n",
       "      <td>b</td>\n",
       "      <td>k</td>\n",
       "      <td>...</td>\n",
       "      <td>s</td>\n",
       "      <td>w</td>\n",
       "      <td>w</td>\n",
       "      <td>p</td>\n",
       "      <td>w</td>\n",
       "      <td>o</td>\n",
       "      <td>p</td>\n",
       "      <td>n</td>\n",
       "      <td>n</td>\n",
       "      <td>g</td>\n",
       "    </tr>\n",
       "    <tr>\n",
       "      <th>1</th>\n",
       "      <td>e</td>\n",
       "      <td>b</td>\n",
       "      <td>s</td>\n",
       "      <td>w</td>\n",
       "      <td>t</td>\n",
       "      <td>l</td>\n",
       "      <td>f</td>\n",
       "      <td>c</td>\n",
       "      <td>b</td>\n",
       "      <td>n</td>\n",
       "      <td>...</td>\n",
       "      <td>s</td>\n",
       "      <td>w</td>\n",
       "      <td>w</td>\n",
       "      <td>p</td>\n",
       "      <td>w</td>\n",
       "      <td>o</td>\n",
       "      <td>p</td>\n",
       "      <td>n</td>\n",
       "      <td>n</td>\n",
       "      <td>m</td>\n",
       "    </tr>\n",
       "    <tr>\n",
       "      <th>2</th>\n",
       "      <td>p</td>\n",
       "      <td>x</td>\n",
       "      <td>y</td>\n",
       "      <td>w</td>\n",
       "      <td>t</td>\n",
       "      <td>p</td>\n",
       "      <td>f</td>\n",
       "      <td>c</td>\n",
       "      <td>n</td>\n",
       "      <td>n</td>\n",
       "      <td>...</td>\n",
       "      <td>s</td>\n",
       "      <td>w</td>\n",
       "      <td>w</td>\n",
       "      <td>p</td>\n",
       "      <td>w</td>\n",
       "      <td>o</td>\n",
       "      <td>p</td>\n",
       "      <td>k</td>\n",
       "      <td>s</td>\n",
       "      <td>u</td>\n",
       "    </tr>\n",
       "    <tr>\n",
       "      <th>3</th>\n",
       "      <td>e</td>\n",
       "      <td>x</td>\n",
       "      <td>s</td>\n",
       "      <td>g</td>\n",
       "      <td>f</td>\n",
       "      <td>n</td>\n",
       "      <td>f</td>\n",
       "      <td>w</td>\n",
       "      <td>b</td>\n",
       "      <td>k</td>\n",
       "      <td>...</td>\n",
       "      <td>s</td>\n",
       "      <td>w</td>\n",
       "      <td>w</td>\n",
       "      <td>p</td>\n",
       "      <td>w</td>\n",
       "      <td>o</td>\n",
       "      <td>e</td>\n",
       "      <td>n</td>\n",
       "      <td>a</td>\n",
       "      <td>g</td>\n",
       "    </tr>\n",
       "    <tr>\n",
       "      <th>4</th>\n",
       "      <td>e</td>\n",
       "      <td>x</td>\n",
       "      <td>y</td>\n",
       "      <td>y</td>\n",
       "      <td>t</td>\n",
       "      <td>a</td>\n",
       "      <td>f</td>\n",
       "      <td>c</td>\n",
       "      <td>b</td>\n",
       "      <td>n</td>\n",
       "      <td>...</td>\n",
       "      <td>s</td>\n",
       "      <td>w</td>\n",
       "      <td>w</td>\n",
       "      <td>p</td>\n",
       "      <td>w</td>\n",
       "      <td>o</td>\n",
       "      <td>p</td>\n",
       "      <td>k</td>\n",
       "      <td>n</td>\n",
       "      <td>g</td>\n",
       "    </tr>\n",
       "  </tbody>\n",
       "</table>\n",
       "<p>5 rows × 23 columns</p>\n",
       "</div>"
      ],
      "text/plain": [
       "  class cap-shape cap-surface cap-color bruises odor gill-attachment  \\\n",
       "0     e         x           s         y       t    a               f   \n",
       "1     e         b           s         w       t    l               f   \n",
       "2     p         x           y         w       t    p               f   \n",
       "3     e         x           s         g       f    n               f   \n",
       "4     e         x           y         y       t    a               f   \n",
       "\n",
       "  gill-spacing gill-size gill-color  ... stalk-surface-below-ring  \\\n",
       "0            c         b          k  ...                        s   \n",
       "1            c         b          n  ...                        s   \n",
       "2            c         n          n  ...                        s   \n",
       "3            w         b          k  ...                        s   \n",
       "4            c         b          n  ...                        s   \n",
       "\n",
       "  stalk-color-above-ring stalk-color-below-ring veil-type veil-color  \\\n",
       "0                      w                      w         p          w   \n",
       "1                      w                      w         p          w   \n",
       "2                      w                      w         p          w   \n",
       "3                      w                      w         p          w   \n",
       "4                      w                      w         p          w   \n",
       "\n",
       "  ring-number ring-type spore-print-color population habitat  \n",
       "0           o         p                 n          n       g  \n",
       "1           o         p                 n          n       m  \n",
       "2           o         p                 k          s       u  \n",
       "3           o         e                 n          a       g  \n",
       "4           o         p                 k          n       g  \n",
       "\n",
       "[5 rows x 23 columns]"
      ]
     },
     "execution_count": 56,
     "metadata": {},
     "output_type": "execute_result"
    }
   ],
   "source": [
    "df = pd.read_csv('../data/mushrooms.csv')\n",
    "\n",
    "df.head()"
   ]
  },
  {
   "cell_type": "code",
   "execution_count": 57,
   "id": "588e5052",
   "metadata": {},
   "outputs": [],
   "source": [
    "X_train, X_test, y_train, y_test = train_test_split(pd.get_dummies(df.drop('class', axis=1)), df['class'], test_size=0.2, stratify=df['class'], random_state=42)"
   ]
  },
  {
   "cell_type": "code",
   "execution_count": 58,
   "id": "5ad3ba32",
   "metadata": {},
   "outputs": [],
   "source": [
    "def train_model(criterion='gini', n_estimators=100, max_depth=None, bootstrap=True) -> RandomForestClassifier:\n",
    "    \"\"\"Train a Random Forest model.\n",
    "\n",
    "    Args:\n",
    "        criterion (str, optional): The function to measure the quality of a split. Defaults to 'gini'.\n",
    "        n_estimators (int, optional): The number of trees in the forest. Defaults to 100.\n",
    "        max_depth (int, optional): The maximum depth of the tree. Defaults to None.\n",
    "        bootstrap (bool, optional): Whether to use bootstrap samples. Defaults to True.\n",
    "\n",
    "    Returns:\n",
    "        RandomForestClassifier: The trained Random Forest model.\n",
    "    \"\"\"\n",
    "    model = RandomForestClassifier(\n",
    "        criterion=criterion, # type: ignore\n",
    "        n_estimators=n_estimators,\n",
    "        max_depth=max_depth,\n",
    "        bootstrap=bootstrap,\n",
    "        random_state=42\n",
    "    )\n",
    "    model.fit(X_train, y_train)\n",
    "    return model"
   ]
  },
  {
   "cell_type": "code",
   "execution_count": 59,
   "id": "c616725e",
   "metadata": {},
   "outputs": [
    {
     "name": "stdout",
     "output_type": "stream",
     "text": [
      "Model accuracy: 1.0\n"
     ]
    }
   ],
   "source": [
    "model = train_model()\n",
    "model.predict(X_test)\n",
    "accuracy = accuracy_score(y_test, model.predict(X_test))\n",
    "print(\"Model accuracy:\", accuracy)"
   ]
  },
  {
   "cell_type": "code",
   "execution_count": null,
   "id": "3c8164ce",
   "metadata": {},
   "outputs": [],
   "source": []
  }
 ],
 "metadata": {
  "kernelspec": {
   "display_name": ".venv",
   "language": "python",
   "name": "python3"
  },
  "language_info": {
   "codemirror_mode": {
    "name": "ipython",
    "version": 3
   },
   "file_extension": ".py",
   "mimetype": "text/x-python",
   "name": "python",
   "nbconvert_exporter": "python",
   "pygments_lexer": "ipython3",
   "version": "3.12.2"
  }
 },
 "nbformat": 4,
 "nbformat_minor": 5
}
